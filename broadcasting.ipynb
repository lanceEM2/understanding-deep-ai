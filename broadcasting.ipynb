{
 "cells": [
  {
   "cell_type": "markdown",
   "metadata": {},
   "source": [
    "# Finding 3's and 7's from our MNIST Dataset"
   ]
  },
  {
   "cell_type": "code",
   "execution_count": 4,
   "metadata": {},
   "outputs": [],
   "source": [
    "from fastai.vision.all import *"
   ]
  },
  {
   "cell_type": "markdown",
   "metadata": {},
   "source": [
    "download a sample of MNIST that contains images"
   ]
  },
  {
   "cell_type": "code",
   "execution_count": 5,
   "metadata": {},
   "outputs": [],
   "source": [
    "path = untar_data(URLs.MNIST_SAMPLE)"
   ]
  },
  {
   "cell_type": "code",
   "execution_count": 6,
   "metadata": {},
   "outputs": [],
   "source": [
    "Path.BASE_PATH = path"
   ]
  },
  {
   "cell_type": "code",
   "execution_count": 7,
   "metadata": {},
   "outputs": [
    {
     "data": {
      "text/plain": [
       "(#3) [Path('labels.csv'),Path('valid'),Path('train')]"
      ]
     },
     "execution_count": 7,
     "metadata": {},
     "output_type": "execute_result"
    }
   ],
   "source": [
    "path.ls()"
   ]
  },
  {
   "cell_type": "markdown",
   "metadata": {},
   "source": [
    "The MNIST dataset follows a common layout for machine learning datasets: separate folders for the training set and the validation set"
   ]
  },
  {
   "cell_type": "code",
   "execution_count": 8,
   "metadata": {},
   "outputs": [
    {
     "data": {
      "text/plain": [
       "(#2) [Path('train/7'),Path('train/3')]"
      ]
     },
     "execution_count": 8,
     "metadata": {},
     "output_type": "execute_result"
    }
   ],
   "source": [
    "(path/'train').ls()"
   ]
  },
  {
   "cell_type": "markdown",
   "metadata": {},
   "source": [
    "There's a folder of 3s, and a folder of 7s. In machine learning parlance, we say that \"3\" and \"7\" are the labels (or targets) in this dataset."
   ]
  },
  {
   "cell_type": "code",
   "execution_count": 9,
   "metadata": {},
   "outputs": [
    {
     "data": {
      "text/plain": [
       "(#6131) [Path('train/3/10.png'),Path('train/3/10000.png'),Path('train/3/10011.png'),Path('train/3/10031.png'),Path('train/3/10034.png'),Path('train/3/10042.png'),Path('train/3/10052.png'),Path('train/3/1007.png'),Path('train/3/10074.png'),Path('train/3/10091.png'),Path('train/3/10093.png'),Path('train/3/10097.png'),Path('train/3/10099.png'),Path('train/3/10116.png'),Path('train/3/10125.png'),Path('train/3/10137.png'),Path('train/3/10141.png'),Path('train/3/10144.png'),Path('train/3/10155.png'),Path('train/3/10161.png')...]"
      ]
     },
     "execution_count": 9,
     "metadata": {},
     "output_type": "execute_result"
    }
   ],
   "source": [
    "threes = (path/'train'/'3').ls().sorted()\n",
    "sevens = (path/'train'/'7').ls().sorted()\n",
    "threes"
   ]
  },
  {
   "cell_type": "code",
   "execution_count": 10,
   "metadata": {},
   "outputs": [
    {
     "data": {
      "image/jpeg": "[encoded data removed]",
      "image/png": "[encoded data removed]",
      "text/plain": [
       "<PIL.PngImagePlugin.PngImageFile image mode=L size=28x28>"
      ]
     },
     "execution_count": 10,
     "metadata": {},
     "output_type": "execute_result"
    }
   ],
   "source": [
    "im3_path = threes[1]\n",
    "im3 = Image.open(im3_path)\n",
    "im3"
   ]
  },
  {
   "cell_type": "markdown",
   "metadata": {},
   "source": [
    "In a computer, everything is represented as a number. To view the numbers that make up this image, we have to convert it to a NumPy array or a PyTorch tensor. For instance, here's what a section of the image looks like, converted to a NumPy array:"
   ]
  },
  {
   "cell_type": "markdown",
   "metadata": {},
   "source": [
    "4:10 for rows: This means you are selecting rows from index 4 (inclusive) to index 10 (exclusive). So, it includes rows 4, 5, 6, 7, 8, and 9 (a total of 6 rows).\n",
    "\n",
    "4:10 for columns: Similarly, this means you are selecting columns from index 4 (inclusive) to index 10 (exclusive). So, it includes columns 4, 5, 6, 7, 8, and 9 (a total of 6 columns)."
   ]
  },
  {
   "cell_type": "code",
   "execution_count": 11,
   "metadata": {},
   "outputs": [
    {
     "data": {
      "text/plain": [
       "array([[  0,   0,   0,   0,   0,   0],\n",
       "       [  0,   0,   0,   0,   0,  29],\n",
       "       [  0,   0,   0,  48, 166, 224],\n",
       "       [  0,  93, 244, 249, 253, 187],\n",
       "       [  0, 107, 253, 253, 230,  48],\n",
       "       [  0,   3,  20,  20,  15,   0]], dtype=uint8)"
      ]
     },
     "execution_count": 11,
     "metadata": {},
     "output_type": "execute_result"
    }
   ],
   "source": [
    "array(im3)[4:10,4:10]"
   ]
  },
  {
   "cell_type": "code",
   "execution_count": 12,
   "metadata": {},
   "outputs": [
    {
     "data": {
      "text/plain": [
       "tensor([[  0,   0,   0,   0,   0,   0],\n",
       "        [  0,   0,   0,   0,   0,  29],\n",
       "        [  0,   0,   0,  48, 166, 224],\n",
       "        [  0,  93, 244, 249, 253, 187],\n",
       "        [  0, 107, 253, 253, 230,  48],\n",
       "        [  0,   3,  20,  20,  15,   0]], dtype=torch.uint8)"
      ]
     },
     "execution_count": 12,
     "metadata": {},
     "output_type": "execute_result"
    }
   ],
   "source": [
    "# as a PyTorch tensor\n",
    "tensor(im3)[4:10,4:10]"
   ]
  },
  {
   "cell_type": "markdown",
   "metadata": {},
   "source": [
    "We can slice the array to pick just the part with the top of the digit in it, and then use a Pandas DataFrame to color-code the values using a gradient, which shows us clearly how the image is created from the pixel values:"
   ]
  },
  {
   "cell_type": "code",
   "execution_count": 13,
   "metadata": {},
   "outputs": [
    {
     "data": {
      "text/html": [
       "<style type=\"text/css\">\n",
       "#T_64910_row0_col0, #T_64910_row0_col1, #T_64910_row0_col2, #T_64910_row0_col3, #T_64910_row0_col4, #T_64910_row0_col5, #T_64910_row0_col6, #T_64910_row0_col7, #T_64910_row0_col8, #T_64910_row0_col9, #T_64910_row0_col10, #T_64910_row0_col11, #T_64910_row0_col12, #T_64910_row0_col13, #T_64910_row0_col14, #T_64910_row0_col15, #T_64910_row0_col16, #T_64910_row0_col17, #T_64910_row1_col0, #T_64910_row1_col1, #T_64910_row1_col2, #T_64910_row1_col3, #T_64910_row1_col4, #T_64910_row1_col15, #T_64910_row1_col16, #T_64910_row1_col17, #T_64910_row2_col0, #T_64910_row2_col1, #T_64910_row2_col2, #T_64910_row2_col15, #T_64910_row2_col16, #T_64910_row2_col17, #T_64910_row3_col0, #T_64910_row3_col15, #T_64910_row3_col16, #T_64910_row3_col17, #T_64910_row4_col0, #T_64910_row4_col6, #T_64910_row4_col7, #T_64910_row4_col8, #T_64910_row4_col9, #T_64910_row4_col10, #T_64910_row4_col15, #T_64910_row4_col16, #T_64910_row4_col17, #T_64910_row5_col0, #T_64910_row5_col5, #T_64910_row5_col6, #T_64910_row5_col7, #T_64910_row5_col8, #T_64910_row5_col9, #T_64910_row5_col15, #T_64910_row5_col16, #T_64910_row5_col17, #T_64910_row6_col0, #T_64910_row6_col1, #T_64910_row6_col2, #T_64910_row6_col3, #T_64910_row6_col4, #T_64910_row6_col5, #T_64910_row6_col6, #T_64910_row6_col7, #T_64910_row6_col8, #T_64910_row6_col9, #T_64910_row6_col14, #T_64910_row6_col15, #T_64910_row6_col16, #T_64910_row6_col17, #T_64910_row7_col0, #T_64910_row7_col1, #T_64910_row7_col2, #T_64910_row7_col3, #T_64910_row7_col4, #T_64910_row7_col5, #T_64910_row7_col6, #T_64910_row7_col13, #T_64910_row7_col14, #T_64910_row7_col15, #T_64910_row7_col16, #T_64910_row7_col17, #T_64910_row8_col0, #T_64910_row8_col1, #T_64910_row8_col2, #T_64910_row8_col3, #T_64910_row8_col4, #T_64910_row8_col13, #T_64910_row8_col14, #T_64910_row8_col15, #T_64910_row8_col16, #T_64910_row8_col17, #T_64910_row9_col0, #T_64910_row9_col1, #T_64910_row9_col2, #T_64910_row9_col3, #T_64910_row9_col4, #T_64910_row9_col16, #T_64910_row9_col17, #T_64910_row10_col0, #T_64910_row10_col1, #T_64910_row10_col2, #T_64910_row10_col3, #T_64910_row10_col4, #T_64910_row10_col5, #T_64910_row10_col6, #T_64910_row10_col17 {\n",
       "  font-size: 6pt;\n",
       "  background-color: #ffffff;\n",
       "  color: #000000;\n",
       "}\n",
       "#T_64910_row1_col5 {\n",
       "  font-size: 6pt;\n",
       "  background-color: #efefef;\n",
       "  color: #000000;\n",
       "}\n",
       "#T_64910_row1_col6, #T_64910_row1_col13 {\n",
       "  font-size: 6pt;\n",
       "  background-color: #7c7c7c;\n",
       "  color: #f1f1f1;\n",
       "}\n",
       "#T_64910_row1_col7 {\n",
       "  font-size: 6pt;\n",
       "  background-color: #4a4a4a;\n",
       "  color: #f1f1f1;\n",
       "}\n",
       "#T_64910_row1_col8, #T_64910_row1_col9, #T_64910_row1_col10, #T_64910_row2_col5, #T_64910_row2_col6, #T_64910_row2_col7, #T_64910_row2_col11, #T_64910_row2_col12, #T_64910_row2_col13, #T_64910_row3_col4, #T_64910_row3_col12, #T_64910_row3_col13, #T_64910_row4_col1, #T_64910_row4_col2, #T_64910_row4_col3, #T_64910_row4_col12, #T_64910_row4_col13, #T_64910_row5_col12, #T_64910_row6_col11, #T_64910_row9_col11, #T_64910_row10_col11, #T_64910_row10_col12, #T_64910_row10_col13, #T_64910_row10_col14, #T_64910_row10_col15, #T_64910_row10_col16 {\n",
       "  font-size: 6pt;\n",
       "  background-color: #000000;\n",
       "  color: #f1f1f1;\n",
       "}\n",
       "#T_64910_row1_col11 {\n",
       "  font-size: 6pt;\n",
       "  background-color: #606060;\n",
       "  color: #f1f1f1;\n",
       "}\n",
       "#T_64910_row1_col12 {\n",
       "  font-size: 6pt;\n",
       "  background-color: #4d4d4d;\n",
       "  color: #f1f1f1;\n",
       "}\n",
       "#T_64910_row1_col14 {\n",
       "  font-size: 6pt;\n",
       "  background-color: #bbbbbb;\n",
       "  color: #000000;\n",
       "}\n",
       "#T_64910_row2_col3 {\n",
       "  font-size: 6pt;\n",
       "  background-color: #e4e4e4;\n",
       "  color: #000000;\n",
       "}\n",
       "#T_64910_row2_col4, #T_64910_row8_col6 {\n",
       "  font-size: 6pt;\n",
       "  background-color: #6b6b6b;\n",
       "  color: #f1f1f1;\n",
       "}\n",
       "#T_64910_row2_col8, #T_64910_row2_col14, #T_64910_row3_col14 {\n",
       "  font-size: 6pt;\n",
       "  background-color: #171717;\n",
       "  color: #f1f1f1;\n",
       "}\n",
       "#T_64910_row2_col9, #T_64910_row3_col11 {\n",
       "  font-size: 6pt;\n",
       "  background-color: #4b4b4b;\n",
       "  color: #f1f1f1;\n",
       "}\n",
       "#T_64910_row2_col10, #T_64910_row7_col10, #T_64910_row8_col8, #T_64910_row8_col10, #T_64910_row9_col8, #T_64910_row9_col10 {\n",
       "  font-size: 6pt;\n",
       "  background-color: #010101;\n",
       "  color: #f1f1f1;\n",
       "}\n",
       "#T_64910_row3_col1 {\n",
       "  font-size: 6pt;\n",
       "  background-color: #272727;\n",
       "  color: #f1f1f1;\n",
       "}\n",
       "#T_64910_row3_col2 {\n",
       "  font-size: 6pt;\n",
       "  background-color: #0a0a0a;\n",
       "  color: #f1f1f1;\n",
       "}\n",
       "#T_64910_row3_col3 {\n",
       "  font-size: 6pt;\n",
       "  background-color: #050505;\n",
       "  color: #f1f1f1;\n",
       "}\n",
       "#T_64910_row3_col5 {\n",
       "  font-size: 6pt;\n",
       "  background-color: #333333;\n",
       "  color: #f1f1f1;\n",
       "}\n",
       "#T_64910_row3_col6 {\n",
       "  font-size: 6pt;\n",
       "  background-color: #e6e6e6;\n",
       "  color: #000000;\n",
       "}\n",
       "#T_64910_row3_col7, #T_64910_row3_col10 {\n",
       "  font-size: 6pt;\n",
       "  background-color: #fafafa;\n",
       "  color: #000000;\n",
       "}\n",
       "#T_64910_row3_col8 {\n",
       "  font-size: 6pt;\n",
       "  background-color: #fbfbfb;\n",
       "  color: #000000;\n",
       "}\n",
       "#T_64910_row3_col9 {\n",
       "  font-size: 6pt;\n",
       "  background-color: #fdfdfd;\n",
       "  color: #000000;\n",
       "}\n",
       "#T_64910_row4_col4 {\n",
       "  font-size: 6pt;\n",
       "  background-color: #1b1b1b;\n",
       "  color: #f1f1f1;\n",
       "}\n",
       "#T_64910_row4_col5 {\n",
       "  font-size: 6pt;\n",
       "  background-color: #e0e0e0;\n",
       "  color: #000000;\n",
       "}\n",
       "#T_64910_row4_col11 {\n",
       "  font-size: 6pt;\n",
       "  background-color: #4e4e4e;\n",
       "  color: #f1f1f1;\n",
       "}\n",
       "#T_64910_row4_col14 {\n",
       "  font-size: 6pt;\n",
       "  background-color: #767676;\n",
       "  color: #f1f1f1;\n",
       "}\n",
       "#T_64910_row5_col1 {\n",
       "  font-size: 6pt;\n",
       "  background-color: #fcfcfc;\n",
       "  color: #000000;\n",
       "}\n",
       "#T_64910_row5_col2, #T_64910_row5_col3 {\n",
       "  font-size: 6pt;\n",
       "  background-color: #f6f6f6;\n",
       "  color: #000000;\n",
       "}\n",
       "#T_64910_row5_col4, #T_64910_row7_col7 {\n",
       "  font-size: 6pt;\n",
       "  background-color: #f8f8f8;\n",
       "  color: #000000;\n",
       "}\n",
       "#T_64910_row5_col10, #T_64910_row10_col7 {\n",
       "  font-size: 6pt;\n",
       "  background-color: #e8e8e8;\n",
       "  color: #000000;\n",
       "}\n",
       "#T_64910_row5_col11 {\n",
       "  font-size: 6pt;\n",
       "  background-color: #222222;\n",
       "  color: #f1f1f1;\n",
       "}\n",
       "#T_64910_row5_col13, #T_64910_row6_col12 {\n",
       "  font-size: 6pt;\n",
       "  background-color: #090909;\n",
       "  color: #f1f1f1;\n",
       "}\n",
       "#T_64910_row5_col14 {\n",
       "  font-size: 6pt;\n",
       "  background-color: #d0d0d0;\n",
       "  color: #000000;\n",
       "}\n",
       "#T_64910_row6_col10, #T_64910_row7_col11, #T_64910_row9_col6 {\n",
       "  font-size: 6pt;\n",
       "  background-color: #060606;\n",
       "  color: #f1f1f1;\n",
       "}\n",
       "#T_64910_row6_col13 {\n",
       "  font-size: 6pt;\n",
       "  background-color: #979797;\n",
       "  color: #f1f1f1;\n",
       "}\n",
       "#T_64910_row7_col8 {\n",
       "  font-size: 6pt;\n",
       "  background-color: #b6b6b6;\n",
       "  color: #000000;\n",
       "}\n",
       "#T_64910_row7_col9 {\n",
       "  font-size: 6pt;\n",
       "  background-color: #252525;\n",
       "  color: #f1f1f1;\n",
       "}\n",
       "#T_64910_row7_col12 {\n",
       "  font-size: 6pt;\n",
       "  background-color: #999999;\n",
       "  color: #f1f1f1;\n",
       "}\n",
       "#T_64910_row8_col5 {\n",
       "  font-size: 6pt;\n",
       "  background-color: #f9f9f9;\n",
       "  color: #000000;\n",
       "}\n",
       "#T_64910_row8_col7 {\n",
       "  font-size: 6pt;\n",
       "  background-color: #101010;\n",
       "  color: #f1f1f1;\n",
       "}\n",
       "#T_64910_row8_col9, #T_64910_row9_col9 {\n",
       "  font-size: 6pt;\n",
       "  background-color: #020202;\n",
       "  color: #f1f1f1;\n",
       "}\n",
       "#T_64910_row8_col11 {\n",
       "  font-size: 6pt;\n",
       "  background-color: #545454;\n",
       "  color: #f1f1f1;\n",
       "}\n",
       "#T_64910_row8_col12 {\n",
       "  font-size: 6pt;\n",
       "  background-color: #f1f1f1;\n",
       "  color: #000000;\n",
       "}\n",
       "#T_64910_row9_col5 {\n",
       "  font-size: 6pt;\n",
       "  background-color: #f7f7f7;\n",
       "  color: #000000;\n",
       "}\n",
       "#T_64910_row9_col7 {\n",
       "  font-size: 6pt;\n",
       "  background-color: #030303;\n",
       "  color: #f1f1f1;\n",
       "}\n",
       "#T_64910_row9_col12 {\n",
       "  font-size: 6pt;\n",
       "  background-color: #181818;\n",
       "  color: #f1f1f1;\n",
       "}\n",
       "#T_64910_row9_col13 {\n",
       "  font-size: 6pt;\n",
       "  background-color: #303030;\n",
       "  color: #f1f1f1;\n",
       "}\n",
       "#T_64910_row9_col14 {\n",
       "  font-size: 6pt;\n",
       "  background-color: #a9a9a9;\n",
       "  color: #f1f1f1;\n",
       "}\n",
       "#T_64910_row9_col15 {\n",
       "  font-size: 6pt;\n",
       "  background-color: #fefefe;\n",
       "  color: #000000;\n",
       "}\n",
       "#T_64910_row10_col8, #T_64910_row10_col9 {\n",
       "  font-size: 6pt;\n",
       "  background-color: #bababa;\n",
       "  color: #000000;\n",
       "}\n",
       "#T_64910_row10_col10 {\n",
       "  font-size: 6pt;\n",
       "  background-color: #393939;\n",
       "  color: #f1f1f1;\n",
       "}\n",
       "</style>\n",
       "<table id=\"T_64910\">\n",
       "  <thead>\n",
       "    <tr>\n",
       "      <th class=\"blank level0\" >&nbsp;</th>\n",
       "      <th id=\"T_64910_level0_col0\" class=\"col_heading level0 col0\" >0</th>\n",
       "      <th id=\"T_64910_level0_col1\" class=\"col_heading level0 col1\" >1</th>\n",
       "      <th id=\"T_64910_level0_col2\" class=\"col_heading level0 col2\" >2</th>\n",
       "      <th id=\"T_64910_level0_col3\" class=\"col_heading level0 col3\" >3</th>\n",
       "      <th id=\"T_64910_level0_col4\" class=\"col_heading level0 col4\" >4</th>\n",
       "      <th id=\"T_64910_level0_col5\" class=\"col_heading level0 col5\" >5</th>\n",
       "      <th id=\"T_64910_level0_col6\" class=\"col_heading level0 col6\" >6</th>\n",
       "      <th id=\"T_64910_level0_col7\" class=\"col_heading level0 col7\" >7</th>\n",
       "      <th id=\"T_64910_level0_col8\" class=\"col_heading level0 col8\" >8</th>\n",
       "      <th id=\"T_64910_level0_col9\" class=\"col_heading level0 col9\" >9</th>\n",
       "      <th id=\"T_64910_level0_col10\" class=\"col_heading level0 col10\" >10</th>\n",
       "      <th id=\"T_64910_level0_col11\" class=\"col_heading level0 col11\" >11</th>\n",
       "      <th id=\"T_64910_level0_col12\" class=\"col_heading level0 col12\" >12</th>\n",
       "      <th id=\"T_64910_level0_col13\" class=\"col_heading level0 col13\" >13</th>\n",
       "      <th id=\"T_64910_level0_col14\" class=\"col_heading level0 col14\" >14</th>\n",
       "      <th id=\"T_64910_level0_col15\" class=\"col_heading level0 col15\" >15</th>\n",
       "      <th id=\"T_64910_level0_col16\" class=\"col_heading level0 col16\" >16</th>\n",
       "      <th id=\"T_64910_level0_col17\" class=\"col_heading level0 col17\" >17</th>\n",
       "    </tr>\n",
       "  </thead>\n",
       "  <tbody>\n",
       "    <tr>\n",
       "      <th id=\"T_64910_level0_row0\" class=\"row_heading level0 row0\" >0</th>\n",
       "      <td id=\"T_64910_row0_col0\" class=\"data row0 col0\" >0</td>\n",
       "      <td id=\"T_64910_row0_col1\" class=\"data row0 col1\" >0</td>\n",
       "      <td id=\"T_64910_row0_col2\" class=\"data row0 col2\" >0</td>\n",
       "      <td id=\"T_64910_row0_col3\" class=\"data row0 col3\" >0</td>\n",
       "      <td id=\"T_64910_row0_col4\" class=\"data row0 col4\" >0</td>\n",
       "      <td id=\"T_64910_row0_col5\" class=\"data row0 col5\" >0</td>\n",
       "      <td id=\"T_64910_row0_col6\" class=\"data row0 col6\" >0</td>\n",
       "      <td id=\"T_64910_row0_col7\" class=\"data row0 col7\" >0</td>\n",
       "      <td id=\"T_64910_row0_col8\" class=\"data row0 col8\" >0</td>\n",
       "      <td id=\"T_64910_row0_col9\" class=\"data row0 col9\" >0</td>\n",
       "      <td id=\"T_64910_row0_col10\" class=\"data row0 col10\" >0</td>\n",
       "      <td id=\"T_64910_row0_col11\" class=\"data row0 col11\" >0</td>\n",
       "      <td id=\"T_64910_row0_col12\" class=\"data row0 col12\" >0</td>\n",
       "      <td id=\"T_64910_row0_col13\" class=\"data row0 col13\" >0</td>\n",
       "      <td id=\"T_64910_row0_col14\" class=\"data row0 col14\" >0</td>\n",
       "      <td id=\"T_64910_row0_col15\" class=\"data row0 col15\" >0</td>\n",
       "      <td id=\"T_64910_row0_col16\" class=\"data row0 col16\" >0</td>\n",
       "      <td id=\"T_64910_row0_col17\" class=\"data row0 col17\" >0</td>\n",
       "    </tr>\n",
       "    <tr>\n",
       "      <th id=\"T_64910_level0_row1\" class=\"row_heading level0 row1\" >1</th>\n",
       "      <td id=\"T_64910_row1_col0\" class=\"data row1 col0\" >0</td>\n",
       "      <td id=\"T_64910_row1_col1\" class=\"data row1 col1\" >0</td>\n",
       "      <td id=\"T_64910_row1_col2\" class=\"data row1 col2\" >0</td>\n",
       "      <td id=\"T_64910_row1_col3\" class=\"data row1 col3\" >0</td>\n",
       "      <td id=\"T_64910_row1_col4\" class=\"data row1 col4\" >0</td>\n",
       "      <td id=\"T_64910_row1_col5\" class=\"data row1 col5\" >29</td>\n",
       "      <td id=\"T_64910_row1_col6\" class=\"data row1 col6\" >150</td>\n",
       "      <td id=\"T_64910_row1_col7\" class=\"data row1 col7\" >195</td>\n",
       "      <td id=\"T_64910_row1_col8\" class=\"data row1 col8\" >254</td>\n",
       "      <td id=\"T_64910_row1_col9\" class=\"data row1 col9\" >255</td>\n",
       "      <td id=\"T_64910_row1_col10\" class=\"data row1 col10\" >254</td>\n",
       "      <td id=\"T_64910_row1_col11\" class=\"data row1 col11\" >176</td>\n",
       "      <td id=\"T_64910_row1_col12\" class=\"data row1 col12\" >193</td>\n",
       "      <td id=\"T_64910_row1_col13\" class=\"data row1 col13\" >150</td>\n",
       "      <td id=\"T_64910_row1_col14\" class=\"data row1 col14\" >96</td>\n",
       "      <td id=\"T_64910_row1_col15\" class=\"data row1 col15\" >0</td>\n",
       "      <td id=\"T_64910_row1_col16\" class=\"data row1 col16\" >0</td>\n",
       "      <td id=\"T_64910_row1_col17\" class=\"data row1 col17\" >0</td>\n",
       "    </tr>\n",
       "    <tr>\n",
       "      <th id=\"T_64910_level0_row2\" class=\"row_heading level0 row2\" >2</th>\n",
       "      <td id=\"T_64910_row2_col0\" class=\"data row2 col0\" >0</td>\n",
       "      <td id=\"T_64910_row2_col1\" class=\"data row2 col1\" >0</td>\n",
       "      <td id=\"T_64910_row2_col2\" class=\"data row2 col2\" >0</td>\n",
       "      <td id=\"T_64910_row2_col3\" class=\"data row2 col3\" >48</td>\n",
       "      <td id=\"T_64910_row2_col4\" class=\"data row2 col4\" >166</td>\n",
       "      <td id=\"T_64910_row2_col5\" class=\"data row2 col5\" >224</td>\n",
       "      <td id=\"T_64910_row2_col6\" class=\"data row2 col6\" >253</td>\n",
       "      <td id=\"T_64910_row2_col7\" class=\"data row2 col7\" >253</td>\n",
       "      <td id=\"T_64910_row2_col8\" class=\"data row2 col8\" >234</td>\n",
       "      <td id=\"T_64910_row2_col9\" class=\"data row2 col9\" >196</td>\n",
       "      <td id=\"T_64910_row2_col10\" class=\"data row2 col10\" >253</td>\n",
       "      <td id=\"T_64910_row2_col11\" class=\"data row2 col11\" >253</td>\n",
       "      <td id=\"T_64910_row2_col12\" class=\"data row2 col12\" >253</td>\n",
       "      <td id=\"T_64910_row2_col13\" class=\"data row2 col13\" >253</td>\n",
       "      <td id=\"T_64910_row2_col14\" class=\"data row2 col14\" >233</td>\n",
       "      <td id=\"T_64910_row2_col15\" class=\"data row2 col15\" >0</td>\n",
       "      <td id=\"T_64910_row2_col16\" class=\"data row2 col16\" >0</td>\n",
       "      <td id=\"T_64910_row2_col17\" class=\"data row2 col17\" >0</td>\n",
       "    </tr>\n",
       "    <tr>\n",
       "      <th id=\"T_64910_level0_row3\" class=\"row_heading level0 row3\" >3</th>\n",
       "      <td id=\"T_64910_row3_col0\" class=\"data row3 col0\" >0</td>\n",
       "      <td id=\"T_64910_row3_col1\" class=\"data row3 col1\" >93</td>\n",
       "      <td id=\"T_64910_row3_col2\" class=\"data row3 col2\" >244</td>\n",
       "      <td id=\"T_64910_row3_col3\" class=\"data row3 col3\" >249</td>\n",
       "      <td id=\"T_64910_row3_col4\" class=\"data row3 col4\" >253</td>\n",
       "      <td id=\"T_64910_row3_col5\" class=\"data row3 col5\" >187</td>\n",
       "      <td id=\"T_64910_row3_col6\" class=\"data row3 col6\" >46</td>\n",
       "      <td id=\"T_64910_row3_col7\" class=\"data row3 col7\" >10</td>\n",
       "      <td id=\"T_64910_row3_col8\" class=\"data row3 col8\" >8</td>\n",
       "      <td id=\"T_64910_row3_col9\" class=\"data row3 col9\" >4</td>\n",
       "      <td id=\"T_64910_row3_col10\" class=\"data row3 col10\" >10</td>\n",
       "      <td id=\"T_64910_row3_col11\" class=\"data row3 col11\" >194</td>\n",
       "      <td id=\"T_64910_row3_col12\" class=\"data row3 col12\" >253</td>\n",
       "      <td id=\"T_64910_row3_col13\" class=\"data row3 col13\" >253</td>\n",
       "      <td id=\"T_64910_row3_col14\" class=\"data row3 col14\" >233</td>\n",
       "      <td id=\"T_64910_row3_col15\" class=\"data row3 col15\" >0</td>\n",
       "      <td id=\"T_64910_row3_col16\" class=\"data row3 col16\" >0</td>\n",
       "      <td id=\"T_64910_row3_col17\" class=\"data row3 col17\" >0</td>\n",
       "    </tr>\n",
       "    <tr>\n",
       "      <th id=\"T_64910_level0_row4\" class=\"row_heading level0 row4\" >4</th>\n",
       "      <td id=\"T_64910_row4_col0\" class=\"data row4 col0\" >0</td>\n",
       "      <td id=\"T_64910_row4_col1\" class=\"data row4 col1\" >107</td>\n",
       "      <td id=\"T_64910_row4_col2\" class=\"data row4 col2\" >253</td>\n",
       "      <td id=\"T_64910_row4_col3\" class=\"data row4 col3\" >253</td>\n",
       "      <td id=\"T_64910_row4_col4\" class=\"data row4 col4\" >230</td>\n",
       "      <td id=\"T_64910_row4_col5\" class=\"data row4 col5\" >48</td>\n",
       "      <td id=\"T_64910_row4_col6\" class=\"data row4 col6\" >0</td>\n",
       "      <td id=\"T_64910_row4_col7\" class=\"data row4 col7\" >0</td>\n",
       "      <td id=\"T_64910_row4_col8\" class=\"data row4 col8\" >0</td>\n",
       "      <td id=\"T_64910_row4_col9\" class=\"data row4 col9\" >0</td>\n",
       "      <td id=\"T_64910_row4_col10\" class=\"data row4 col10\" >0</td>\n",
       "      <td id=\"T_64910_row4_col11\" class=\"data row4 col11\" >192</td>\n",
       "      <td id=\"T_64910_row4_col12\" class=\"data row4 col12\" >253</td>\n",
       "      <td id=\"T_64910_row4_col13\" class=\"data row4 col13\" >253</td>\n",
       "      <td id=\"T_64910_row4_col14\" class=\"data row4 col14\" >156</td>\n",
       "      <td id=\"T_64910_row4_col15\" class=\"data row4 col15\" >0</td>\n",
       "      <td id=\"T_64910_row4_col16\" class=\"data row4 col16\" >0</td>\n",
       "      <td id=\"T_64910_row4_col17\" class=\"data row4 col17\" >0</td>\n",
       "    </tr>\n",
       "    <tr>\n",
       "      <th id=\"T_64910_level0_row5\" class=\"row_heading level0 row5\" >5</th>\n",
       "      <td id=\"T_64910_row5_col0\" class=\"data row5 col0\" >0</td>\n",
       "      <td id=\"T_64910_row5_col1\" class=\"data row5 col1\" >3</td>\n",
       "      <td id=\"T_64910_row5_col2\" class=\"data row5 col2\" >20</td>\n",
       "      <td id=\"T_64910_row5_col3\" class=\"data row5 col3\" >20</td>\n",
       "      <td id=\"T_64910_row5_col4\" class=\"data row5 col4\" >15</td>\n",
       "      <td id=\"T_64910_row5_col5\" class=\"data row5 col5\" >0</td>\n",
       "      <td id=\"T_64910_row5_col6\" class=\"data row5 col6\" >0</td>\n",
       "      <td id=\"T_64910_row5_col7\" class=\"data row5 col7\" >0</td>\n",
       "      <td id=\"T_64910_row5_col8\" class=\"data row5 col8\" >0</td>\n",
       "      <td id=\"T_64910_row5_col9\" class=\"data row5 col9\" >0</td>\n",
       "      <td id=\"T_64910_row5_col10\" class=\"data row5 col10\" >43</td>\n",
       "      <td id=\"T_64910_row5_col11\" class=\"data row5 col11\" >224</td>\n",
       "      <td id=\"T_64910_row5_col12\" class=\"data row5 col12\" >253</td>\n",
       "      <td id=\"T_64910_row5_col13\" class=\"data row5 col13\" >245</td>\n",
       "      <td id=\"T_64910_row5_col14\" class=\"data row5 col14\" >74</td>\n",
       "      <td id=\"T_64910_row5_col15\" class=\"data row5 col15\" >0</td>\n",
       "      <td id=\"T_64910_row5_col16\" class=\"data row5 col16\" >0</td>\n",
       "      <td id=\"T_64910_row5_col17\" class=\"data row5 col17\" >0</td>\n",
       "    </tr>\n",
       "    <tr>\n",
       "      <th id=\"T_64910_level0_row6\" class=\"row_heading level0 row6\" >6</th>\n",
       "      <td id=\"T_64910_row6_col0\" class=\"data row6 col0\" >0</td>\n",
       "      <td id=\"T_64910_row6_col1\" class=\"data row6 col1\" >0</td>\n",
       "      <td id=\"T_64910_row6_col2\" class=\"data row6 col2\" >0</td>\n",
       "      <td id=\"T_64910_row6_col3\" class=\"data row6 col3\" >0</td>\n",
       "      <td id=\"T_64910_row6_col4\" class=\"data row6 col4\" >0</td>\n",
       "      <td id=\"T_64910_row6_col5\" class=\"data row6 col5\" >0</td>\n",
       "      <td id=\"T_64910_row6_col6\" class=\"data row6 col6\" >0</td>\n",
       "      <td id=\"T_64910_row6_col7\" class=\"data row6 col7\" >0</td>\n",
       "      <td id=\"T_64910_row6_col8\" class=\"data row6 col8\" >0</td>\n",
       "      <td id=\"T_64910_row6_col9\" class=\"data row6 col9\" >0</td>\n",
       "      <td id=\"T_64910_row6_col10\" class=\"data row6 col10\" >249</td>\n",
       "      <td id=\"T_64910_row6_col11\" class=\"data row6 col11\" >253</td>\n",
       "      <td id=\"T_64910_row6_col12\" class=\"data row6 col12\" >245</td>\n",
       "      <td id=\"T_64910_row6_col13\" class=\"data row6 col13\" >126</td>\n",
       "      <td id=\"T_64910_row6_col14\" class=\"data row6 col14\" >0</td>\n",
       "      <td id=\"T_64910_row6_col15\" class=\"data row6 col15\" >0</td>\n",
       "      <td id=\"T_64910_row6_col16\" class=\"data row6 col16\" >0</td>\n",
       "      <td id=\"T_64910_row6_col17\" class=\"data row6 col17\" >0</td>\n",
       "    </tr>\n",
       "    <tr>\n",
       "      <th id=\"T_64910_level0_row7\" class=\"row_heading level0 row7\" >7</th>\n",
       "      <td id=\"T_64910_row7_col0\" class=\"data row7 col0\" >0</td>\n",
       "      <td id=\"T_64910_row7_col1\" class=\"data row7 col1\" >0</td>\n",
       "      <td id=\"T_64910_row7_col2\" class=\"data row7 col2\" >0</td>\n",
       "      <td id=\"T_64910_row7_col3\" class=\"data row7 col3\" >0</td>\n",
       "      <td id=\"T_64910_row7_col4\" class=\"data row7 col4\" >0</td>\n",
       "      <td id=\"T_64910_row7_col5\" class=\"data row7 col5\" >0</td>\n",
       "      <td id=\"T_64910_row7_col6\" class=\"data row7 col6\" >0</td>\n",
       "      <td id=\"T_64910_row7_col7\" class=\"data row7 col7\" >14</td>\n",
       "      <td id=\"T_64910_row7_col8\" class=\"data row7 col8\" >101</td>\n",
       "      <td id=\"T_64910_row7_col9\" class=\"data row7 col9\" >223</td>\n",
       "      <td id=\"T_64910_row7_col10\" class=\"data row7 col10\" >253</td>\n",
       "      <td id=\"T_64910_row7_col11\" class=\"data row7 col11\" >248</td>\n",
       "      <td id=\"T_64910_row7_col12\" class=\"data row7 col12\" >124</td>\n",
       "      <td id=\"T_64910_row7_col13\" class=\"data row7 col13\" >0</td>\n",
       "      <td id=\"T_64910_row7_col14\" class=\"data row7 col14\" >0</td>\n",
       "      <td id=\"T_64910_row7_col15\" class=\"data row7 col15\" >0</td>\n",
       "      <td id=\"T_64910_row7_col16\" class=\"data row7 col16\" >0</td>\n",
       "      <td id=\"T_64910_row7_col17\" class=\"data row7 col17\" >0</td>\n",
       "    </tr>\n",
       "    <tr>\n",
       "      <th id=\"T_64910_level0_row8\" class=\"row_heading level0 row8\" >8</th>\n",
       "      <td id=\"T_64910_row8_col0\" class=\"data row8 col0\" >0</td>\n",
       "      <td id=\"T_64910_row8_col1\" class=\"data row8 col1\" >0</td>\n",
       "      <td id=\"T_64910_row8_col2\" class=\"data row8 col2\" >0</td>\n",
       "      <td id=\"T_64910_row8_col3\" class=\"data row8 col3\" >0</td>\n",
       "      <td id=\"T_64910_row8_col4\" class=\"data row8 col4\" >0</td>\n",
       "      <td id=\"T_64910_row8_col5\" class=\"data row8 col5\" >11</td>\n",
       "      <td id=\"T_64910_row8_col6\" class=\"data row8 col6\" >166</td>\n",
       "      <td id=\"T_64910_row8_col7\" class=\"data row8 col7\" >239</td>\n",
       "      <td id=\"T_64910_row8_col8\" class=\"data row8 col8\" >253</td>\n",
       "      <td id=\"T_64910_row8_col9\" class=\"data row8 col9\" >253</td>\n",
       "      <td id=\"T_64910_row8_col10\" class=\"data row8 col10\" >253</td>\n",
       "      <td id=\"T_64910_row8_col11\" class=\"data row8 col11\" >187</td>\n",
       "      <td id=\"T_64910_row8_col12\" class=\"data row8 col12\" >30</td>\n",
       "      <td id=\"T_64910_row8_col13\" class=\"data row8 col13\" >0</td>\n",
       "      <td id=\"T_64910_row8_col14\" class=\"data row8 col14\" >0</td>\n",
       "      <td id=\"T_64910_row8_col15\" class=\"data row8 col15\" >0</td>\n",
       "      <td id=\"T_64910_row8_col16\" class=\"data row8 col16\" >0</td>\n",
       "      <td id=\"T_64910_row8_col17\" class=\"data row8 col17\" >0</td>\n",
       "    </tr>\n",
       "    <tr>\n",
       "      <th id=\"T_64910_level0_row9\" class=\"row_heading level0 row9\" >9</th>\n",
       "      <td id=\"T_64910_row9_col0\" class=\"data row9 col0\" >0</td>\n",
       "      <td id=\"T_64910_row9_col1\" class=\"data row9 col1\" >0</td>\n",
       "      <td id=\"T_64910_row9_col2\" class=\"data row9 col2\" >0</td>\n",
       "      <td id=\"T_64910_row9_col3\" class=\"data row9 col3\" >0</td>\n",
       "      <td id=\"T_64910_row9_col4\" class=\"data row9 col4\" >0</td>\n",
       "      <td id=\"T_64910_row9_col5\" class=\"data row9 col5\" >16</td>\n",
       "      <td id=\"T_64910_row9_col6\" class=\"data row9 col6\" >248</td>\n",
       "      <td id=\"T_64910_row9_col7\" class=\"data row9 col7\" >250</td>\n",
       "      <td id=\"T_64910_row9_col8\" class=\"data row9 col8\" >253</td>\n",
       "      <td id=\"T_64910_row9_col9\" class=\"data row9 col9\" >253</td>\n",
       "      <td id=\"T_64910_row9_col10\" class=\"data row9 col10\" >253</td>\n",
       "      <td id=\"T_64910_row9_col11\" class=\"data row9 col11\" >253</td>\n",
       "      <td id=\"T_64910_row9_col12\" class=\"data row9 col12\" >232</td>\n",
       "      <td id=\"T_64910_row9_col13\" class=\"data row9 col13\" >213</td>\n",
       "      <td id=\"T_64910_row9_col14\" class=\"data row9 col14\" >111</td>\n",
       "      <td id=\"T_64910_row9_col15\" class=\"data row9 col15\" >2</td>\n",
       "      <td id=\"T_64910_row9_col16\" class=\"data row9 col16\" >0</td>\n",
       "      <td id=\"T_64910_row9_col17\" class=\"data row9 col17\" >0</td>\n",
       "    </tr>\n",
       "    <tr>\n",
       "      <th id=\"T_64910_level0_row10\" class=\"row_heading level0 row10\" >10</th>\n",
       "      <td id=\"T_64910_row10_col0\" class=\"data row10 col0\" >0</td>\n",
       "      <td id=\"T_64910_row10_col1\" class=\"data row10 col1\" >0</td>\n",
       "      <td id=\"T_64910_row10_col2\" class=\"data row10 col2\" >0</td>\n",
       "      <td id=\"T_64910_row10_col3\" class=\"data row10 col3\" >0</td>\n",
       "      <td id=\"T_64910_row10_col4\" class=\"data row10 col4\" >0</td>\n",
       "      <td id=\"T_64910_row10_col5\" class=\"data row10 col5\" >0</td>\n",
       "      <td id=\"T_64910_row10_col6\" class=\"data row10 col6\" >0</td>\n",
       "      <td id=\"T_64910_row10_col7\" class=\"data row10 col7\" >43</td>\n",
       "      <td id=\"T_64910_row10_col8\" class=\"data row10 col8\" >98</td>\n",
       "      <td id=\"T_64910_row10_col9\" class=\"data row10 col9\" >98</td>\n",
       "      <td id=\"T_64910_row10_col10\" class=\"data row10 col10\" >208</td>\n",
       "      <td id=\"T_64910_row10_col11\" class=\"data row10 col11\" >253</td>\n",
       "      <td id=\"T_64910_row10_col12\" class=\"data row10 col12\" >253</td>\n",
       "      <td id=\"T_64910_row10_col13\" class=\"data row10 col13\" >253</td>\n",
       "      <td id=\"T_64910_row10_col14\" class=\"data row10 col14\" >253</td>\n",
       "      <td id=\"T_64910_row10_col15\" class=\"data row10 col15\" >187</td>\n",
       "      <td id=\"T_64910_row10_col16\" class=\"data row10 col16\" >22</td>\n",
       "      <td id=\"T_64910_row10_col17\" class=\"data row10 col17\" >0</td>\n",
       "    </tr>\n",
       "  </tbody>\n",
       "</table>\n"
      ],
      "text/plain": [
       "<pandas.io.formats.style.Styler at 0x7fb47ec81d50>"
      ]
     },
     "execution_count": 13,
     "metadata": {},
     "output_type": "execute_result"
    }
   ],
   "source": [
    "im3_t = tensor(im3)\n",
    "df = pd.DataFrame(im3_t[4:15,4:22])\n",
    "df.style.set_properties(**{'font-size':'6pt'}).background_gradient('Greys')"
   ]
  },
  {
   "cell_type": "markdown",
   "metadata": {},
   "source": [
    "You can see that the background white pixels are stored as the number 0, black is the number 255, and shades of gray are between the two."
   ]
  },
  {
   "cell_type": "markdown",
   "metadata": {},
   "source": [
    "how about we find the average pixel value for every pixel of the 3s, then do the same for the 7s. This will give us two group averages, defining what we might call the \"ideal\" 3 and 7. Then, to classify an image as one digit or the other, we see which of these two ideal digits the image is most similar to."
   ]
  },
  {
   "cell_type": "markdown",
   "metadata": {},
   "source": [
    "Let's create a tensor containing all of our 3s and 7s stacked together"
   ]
  },
  {
   "cell_type": "code",
   "execution_count": 14,
   "metadata": {},
   "outputs": [
    {
     "data": {
      "text/plain": [
       "(6131, 6265)"
      ]
     },
     "execution_count": 14,
     "metadata": {},
     "output_type": "execute_result"
    }
   ],
   "source": [
    "seven_tensors = [tensor(Image.open(o)) for o in sevens]\n",
    "three_tensors = [tensor(Image.open(o)) for o in threes]\n",
    "len(three_tensors),len(seven_tensors)"
   ]
  },
  {
   "cell_type": "markdown",
   "metadata": {},
   "source": [
    "Since we now have tensors (which Jupyter by default will print as values), rather than PIL images (which Jupyter by default will display as images), we need to use fastai's show_image function to display it:"
   ]
  },
  {
   "cell_type": "code",
   "execution_count": 15,
   "metadata": {},
   "outputs": [
    {
     "data": {
      "text/plain": [
       "<Axes: >"
      ]
     },
     "execution_count": 15,
     "metadata": {},
     "output_type": "execute_result"
    },
    {
     "data": {
      "image/png": "[encoded data removed]",
      "text/plain": [
       "<Figure size 100x100 with 1 Axes>"
      ]
     },
     "metadata": {},
     "output_type": "display_data"
    }
   ],
   "source": [
    "show_image(three_tensors[1])"
   ]
  },
  {
   "cell_type": "markdown",
   "metadata": {},
   "source": [
    "For every pixel position, we want to compute the average over all the images of the intensity of that pixel. To do this we first combine all the images in this list into a single three-dimensional tensor. The most common way to describe such a tensor is to call it a *rank-3 tensor*. We often need to stack up individual tensors in a collection into a single tensor. Unsurprisingly, PyTorch comes with a function called *stack* that we can use for this purpose."
   ]
  },
  {
   "cell_type": "markdown",
   "metadata": {},
   "source": [
    "Generally when images are floats, the pixel values are expected to be between 0 and 1, so we will also divide by 255 here:"
   ]
  },
  {
   "cell_type": "code",
   "execution_count": 16,
   "metadata": {},
   "outputs": [
    {
     "data": {
      "text/plain": [
       "torch.Size([6131, 28, 28])"
      ]
     },
     "execution_count": 16,
     "metadata": {},
     "output_type": "execute_result"
    }
   ],
   "source": [
    "stacked_sevens = torch.stack(seven_tensors).float()/255\n",
    "stacked_threes = torch.stack(three_tensors).float()/255\n",
    "stacked_threes.shape"
   ]
  },
  {
   "cell_type": "markdown",
   "metadata": {},
   "source": [
    "Perhaps the most important attribute of a tensor is its shape. This tells you the length of each axis. In this case, we can see that we have 6,131 images, each of size 28×28 pixels."
   ]
  },
  {
   "cell_type": "markdown",
   "metadata": {},
   "source": [
    "The length of a tensor's shape is its rank(the number of axes or dimensions in a tensor)"
   ]
  },
  {
   "cell_type": "code",
   "execution_count": 17,
   "metadata": {},
   "outputs": [
    {
     "data": {
      "text/plain": [
       "3"
      ]
     },
     "execution_count": 17,
     "metadata": {},
     "output_type": "execute_result"
    }
   ],
   "source": [
    "len(stacked_threes.shape)"
   ]
  },
  {
   "cell_type": "markdown",
   "metadata": {},
   "source": [
    "We can also get a tensor's rank directly with ndim:"
   ]
  },
  {
   "cell_type": "code",
   "execution_count": 18,
   "metadata": {},
   "outputs": [
    {
     "data": {
      "text/plain": [
       "3"
      ]
     },
     "execution_count": 18,
     "metadata": {},
     "output_type": "execute_result"
    }
   ],
   "source": [
    "stacked_threes.ndim"
   ]
  },
  {
   "cell_type": "markdown",
   "metadata": {},
   "source": [
    "Finally, we can compute what the ideal 3 looks like. We calculate the mean of all the image tensors by taking the mean along dimension 0 of our stacked, rank-3 tensor."
   ]
  },
  {
   "cell_type": "code",
   "execution_count": 19,
   "metadata": {},
   "outputs": [
    {
     "data": {
      "text/plain": [
       "<Axes: >"
      ]
     },
     "execution_count": 19,
     "metadata": {},
     "output_type": "execute_result"
    },
    {
     "data": {
      "image/png": "[encoded data removed]",
      "text/plain": [
       "<Figure size 100x100 with 1 Axes>"
      ]
     },
     "metadata": {},
     "output_type": "display_data"
    }
   ],
   "source": [
    "mean3 = stacked_threes.mean(0)\n",
    "show_image(mean3)"
   ]
  },
  {
   "cell_type": "code",
   "execution_count": 20,
   "metadata": {},
   "outputs": [
    {
     "data": {
      "text/plain": [
       "torch.Size([28, 28])"
      ]
     },
     "execution_count": 20,
     "metadata": {},
     "output_type": "execute_result"
    }
   ],
   "source": [
    "mean3.shape"
   ]
  },
  {
   "cell_type": "code",
   "execution_count": 21,
   "metadata": {},
   "outputs": [
    {
     "data": {
      "text/plain": [
       "2"
      ]
     },
     "execution_count": 21,
     "metadata": {},
     "output_type": "execute_result"
    }
   ],
   "source": [
    "mean3.ndim"
   ]
  },
  {
   "cell_type": "code",
   "execution_count": 22,
   "metadata": {},
   "outputs": [
    {
     "data": {
      "text/plain": [
       "<Axes: >"
      ]
     },
     "execution_count": 22,
     "metadata": {},
     "output_type": "execute_result"
    },
    {
     "data": {
      "image/png": "[encoded data removed]",
      "text/plain": [
       "<Figure size 100x100 with 1 Axes>"
      ]
     },
     "metadata": {},
     "output_type": "display_data"
    }
   ],
   "source": [
    "mean7 = stacked_sevens.mean(0)\n",
    "show_image(mean7)"
   ]
  },
  {
   "cell_type": "markdown",
   "metadata": {},
   "source": [
    "there are two main ways data scientists measure distance in this context:\n",
    "\n",
    "Take the mean of the absolute value of differences (absolute value is the function that replaces negative values with positive values). This is called the *mean absolute difference* or *L1 norm*.\n",
    "Take the mean of the square of differences (which makes everything positive) and then take the square root (which undoes the squaring). This is called the *root mean squared error (RMSE)* or *L2 norm*."
   ]
  },
  {
   "cell_type": "code",
   "execution_count": 23,
   "metadata": {},
   "outputs": [
    {
     "data": {
      "text/plain": [
       "<Axes: >"
      ]
     },
     "execution_count": 23,
     "metadata": {},
     "output_type": "execute_result"
    },
    {
     "data": {
      "image/png": "[encoded data removed]",
      "text/plain": [
       "<Figure size 100x100 with 1 Axes>"
      ]
     },
     "metadata": {},
     "output_type": "display_data"
    }
   ],
   "source": [
    "a_3 = stacked_threes[1]\n",
    "show_image(a_3)"
   ]
  },
  {
   "cell_type": "markdown",
   "metadata": {},
   "source": [
    "Let's try both of these now:"
   ]
  },
  {
   "cell_type": "code",
   "execution_count": 24,
   "metadata": {},
   "outputs": [
    {
     "data": {
      "text/plain": [
       "(tensor(0.1114), tensor(0.2021))"
      ]
     },
     "execution_count": 24,
     "metadata": {},
     "output_type": "execute_result"
    }
   ],
   "source": [
    "dist_3_abs = (a_3 - mean3).abs().mean()\n",
    "dist_3_sqr = ((a_3 - mean3)**2).mean().sqrt()\n",
    "dist_3_abs,dist_3_sqr"
   ]
  },
  {
   "cell_type": "code",
   "execution_count": 25,
   "metadata": {},
   "outputs": [
    {
     "data": {
      "text/plain": [
       "(tensor(0.1586), tensor(0.3021))"
      ]
     },
     "execution_count": 25,
     "metadata": {},
     "output_type": "execute_result"
    }
   ],
   "source": [
    "dist_7_abs = (a_3 - mean7).abs().mean()\n",
    "dist_7_sqr = ((a_3 - mean7)**2).mean().sqrt()\n",
    "dist_7_abs,dist_7_sqr"
   ]
  },
  {
   "cell_type": "markdown",
   "metadata": {},
   "source": [
    "Both metrics show that a_3 is closer to mean3 than to mean7"
   ]
  },
  {
   "cell_type": "markdown",
   "metadata": {},
   "source": [
    "PyTorch already provides both of these as loss functions. You'll find these inside torch.nn.functional, which the PyTorch team recommends importing as F (and is available by default under that name in fastai):"
   ]
  },
  {
   "cell_type": "code",
   "execution_count": 26,
   "metadata": {},
   "outputs": [
    {
     "data": {
      "text/plain": [
       "(tensor(0.1586), tensor(0.3021))"
      ]
     },
     "execution_count": 26,
     "metadata": {},
     "output_type": "execute_result"
    }
   ],
   "source": [
    "F.l1_loss(a_3.float(),mean7), F.mse_loss(a_3,mean7).sqrt()"
   ]
  },
  {
   "cell_type": "markdown",
   "metadata": {},
   "source": [
    "Here mse stands for mean squared error, and l1 refers to the standard mathematical jargon for mean absolute value (in math it's called the L1 norm)."
   ]
  },
  {
   "cell_type": "markdown",
   "metadata": {},
   "source": [
    "### Numpy arrays and Pytorch tensors"
   ]
  },
  {
   "cell_type": "markdown",
   "metadata": {},
   "source": [
    "Numpy arrays, unlike Pytorch tensors, does not support using the GPU or calculating gradients, which are both critical for deep learning. NumPy arrays and PyTorch tensors can finish computations many thousands of times faster than using pure Python."
   ]
  },
  {
   "cell_type": "markdown",
   "metadata": {},
   "source": [
    "A NumPy array is a multidimensional table of data, with all items of the same type. Since that can be any type at all, they can even be arrays of arrays, with the innermost arrays potentially being different sizes—this is called a \"jagged array.\"\n",
    "A PyTorch tensor is nearly the same thing as a NumPy array, but cannot be jagged."
   ]
  },
  {
   "cell_type": "markdown",
   "metadata": {},
   "source": [
    "Python is slow compared to many languages. C language that is very fast compared to Python. To take advantage of its speed while programming in Python, try to avoid as much as possible writing loops, and replace them by commands that work directly on arrays or tensors."
   ]
  },
  {
   "cell_type": "markdown",
   "metadata": {},
   "source": [
    "To create an array or tensor, pass a list (or list of lists, or list of lists of lists, etc.) to array() or tensor()"
   ]
  },
  {
   "cell_type": "code",
   "execution_count": 27,
   "metadata": {},
   "outputs": [],
   "source": [
    "data = [[1,2,3],[4,5,6]]\n",
    "arr = array (data)\n",
    "tns = tensor(data)"
   ]
  },
  {
   "cell_type": "code",
   "execution_count": 28,
   "metadata": {},
   "outputs": [
    {
     "data": {
      "text/plain": [
       "array([[1, 2, 3],\n",
       "       [4, 5, 6]])"
      ]
     },
     "execution_count": 28,
     "metadata": {},
     "output_type": "execute_result"
    }
   ],
   "source": [
    "arr  # numpy"
   ]
  },
  {
   "cell_type": "code",
   "execution_count": 29,
   "metadata": {},
   "outputs": [
    {
     "data": {
      "text/plain": [
       "tensor([[1, 2, 3],\n",
       "        [4, 5, 6]])"
      ]
     },
     "execution_count": 29,
     "metadata": {},
     "output_type": "execute_result"
    }
   ],
   "source": [
    "tns  # pytorch"
   ]
  },
  {
   "cell_type": "markdown",
   "metadata": {},
   "source": [
    "You can select a row (note that, like lists in Python, tensors are 0-indexed so 1 refers to the second row/column):"
   ]
  },
  {
   "cell_type": "code",
   "execution_count": 30,
   "metadata": {},
   "outputs": [
    {
     "data": {
      "text/plain": [
       "tensor([4, 5, 6])"
      ]
     },
     "execution_count": 30,
     "metadata": {},
     "output_type": "execute_result"
    }
   ],
   "source": [
    "tns[1]"
   ]
  },
  {
   "cell_type": "markdown",
   "metadata": {},
   "source": [
    "or a column, by using : to indicate all of the first axis (we sometimes refer to the dimensions of tensors/arrays as axes):"
   ]
  },
  {
   "cell_type": "code",
   "execution_count": 31,
   "metadata": {},
   "outputs": [
    {
     "data": {
      "text/plain": [
       "tensor([2, 5])"
      ]
     },
     "execution_count": 31,
     "metadata": {},
     "output_type": "execute_result"
    }
   ],
   "source": [
    "tns[:,1]"
   ]
  },
  {
   "cell_type": "markdown",
   "metadata": {},
   "source": [
    "Python slice syntax ([start:end] with end being excluded) to select part of a row or column:"
   ]
  },
  {
   "cell_type": "code",
   "execution_count": 32,
   "metadata": {},
   "outputs": [
    {
     "data": {
      "text/plain": [
       "tensor([5, 6])"
      ]
     },
     "execution_count": 32,
     "metadata": {},
     "output_type": "execute_result"
    }
   ],
   "source": [
    "tns[1,1:3]"
   ]
  },
  {
   "cell_type": "markdown",
   "metadata": {},
   "source": [
    "And you can use the standard operators such as +, -, *, /:"
   ]
  },
  {
   "cell_type": "code",
   "execution_count": 33,
   "metadata": {},
   "outputs": [
    {
     "data": {
      "text/plain": [
       "tensor([[2, 3, 4],\n",
       "        [5, 6, 7]])"
      ]
     },
     "execution_count": 33,
     "metadata": {},
     "output_type": "execute_result"
    }
   ],
   "source": [
    "tns + 1"
   ]
  },
  {
   "cell_type": "code",
   "execution_count": 34,
   "metadata": {},
   "outputs": [
    {
     "data": {
      "text/plain": [
       "tensor([[1.5000, 3.0000, 4.5000],\n",
       "        [6.0000, 7.5000, 9.0000]])"
      ]
     },
     "execution_count": 34,
     "metadata": {},
     "output_type": "execute_result"
    }
   ],
   "source": [
    "tns*1.5"
   ]
  },
  {
   "cell_type": "markdown",
   "metadata": {},
   "source": [
    "### Computing Metrics using Broadcasting"
   ]
  },
  {
   "cell_type": "markdown",
   "metadata": {},
   "source": [
    "Recall that a metric is a number that is calculated based on the predictions of our model, and the correct labels in our dataset, in order to tell us how good our model is."
   ]
  },
  {
   "cell_type": "markdown",
   "metadata": {},
   "source": [
    "As we've discussed, we want to calculate our metric over a validation set. This is so that we don't inadvertently overfit—that is, train a model to work well only on our training data. As it turns out, the creators of the MNIST dataset have already done this for us. Do you remember how there was a whole separate directory called valid? That's what this directory is for!"
   ]
  },
  {
   "cell_type": "markdown",
   "metadata": {},
   "source": [
    "So to start with, let's create tensors for our 3s and 7s from that directory. These are the tensors we will use to calculate a metric measuring the quality of our first-try model, which measures distance from an ideal image:"
   ]
  },
  {
   "cell_type": "code",
   "execution_count": 35,
   "metadata": {},
   "outputs": [
    {
     "data": {
      "text/plain": [
       "(torch.Size([1010, 28, 28]), torch.Size([1028, 28, 28]))"
      ]
     },
     "execution_count": 35,
     "metadata": {},
     "output_type": "execute_result"
    }
   ],
   "source": [
    "valid_3_tens = torch.stack([tensor(Image.open(o)) \n",
    "                            for o in (path/'valid'/'3').ls()])\n",
    "valid_3_tens = valid_3_tens.float()/255\n",
    "valid_7_tens = torch.stack([tensor(Image.open(o)) \n",
    "                            for o in (path/'valid'/'7').ls()])\n",
    "valid_7_tens = valid_7_tens.float()/255\n",
    "valid_3_tens.shape,valid_7_tens.shape"
   ]
  },
  {
   "cell_type": "code",
   "execution_count": 36,
   "metadata": {},
   "outputs": [
    {
     "data": {
      "text/plain": [
       "3"
      ]
     },
     "execution_count": 36,
     "metadata": {},
     "output_type": "execute_result"
    }
   ],
   "source": [
    "valid_3_tens.ndim"
   ]
  },
  {
   "cell_type": "markdown",
   "metadata": {},
   "source": [
    "We can write a simple function that calculates the mean absolute error.\n",
    ".mean((-1, -2)): Computes the mean across the last two dimensions of the tensor.\n",
    "\n",
    "-1 refers to the last dimension.\n",
    "\n",
    "-2 refers to the second-to-last dimension."
   ]
  },
  {
   "cell_type": "code",
   "execution_count": 37,
   "metadata": {},
   "outputs": [
    {
     "data": {
      "text/plain": [
       "tensor(0.1114)"
      ]
     },
     "execution_count": 37,
     "metadata": {},
     "output_type": "execute_result"
    }
   ],
   "source": [
    "def mnist_distance(a,b): return (a-b).abs().mean((-1,-2))\n",
    "mnist_distance(a_3, mean3)"
   ]
  },
  {
   "cell_type": "markdown",
   "metadata": {},
   "source": [
    "But in order to calculate a metric for overall accuracy, we will need to calculate the distance to the ideal 3 for every image in the validation set. How do we do that calculation? We could write a loop over all of the single-image tensors that are stacked within our validation set tensor, valid_3_tens, which has a shape of [1010,28,28] representing 1,010 images. But there is a better way."
   ]
  },
  {
   "cell_type": "markdown",
   "metadata": {},
   "source": [
    "we pass each stacked images from our validation data and compare it to the stacked mean of our trained data"
   ]
  },
  {
   "cell_type": "code",
   "execution_count": 38,
   "metadata": {},
   "outputs": [
    {
     "data": {
      "text/plain": [
       "(tensor([0.1488, 0.1145, 0.1158,  ..., 0.1129, 0.1419, 0.1669]),\n",
       " torch.Size([1010]))"
      ]
     },
     "execution_count": 38,
     "metadata": {},
     "output_type": "execute_result"
    }
   ],
   "source": [
    "valid_3_dist = mnist_distance(valid_3_tens, mean3)\n",
    "valid_3_dist, valid_3_dist.shape"
   ]
  },
  {
   "cell_type": "markdown",
   "metadata": {},
   "source": [
    "it returned the distance for every single image as a vector (i.e., a rank-1 tensor) of length 1,010 (the number of 3s in our validation set)."
   ]
  },
  {
   "cell_type": "markdown",
   "metadata": {},
   "source": [
    "The magic trick is that PyTorch, when it tries to perform a simple subtraction operation between two tensors of different ranks, will use *broadcasting*. That is, it will automatically expand the tensor with the smaller rank to have the same size as the one with the larger rank. Broadcasting is an important capability that makes tensor code much easier to write."
   ]
  },
  {
   "cell_type": "markdown",
   "metadata": {},
   "source": [
    "So in this case, PyTorch treats mean3, a rank-2 tensor representing a single image, as if it were 1,010 copies of the same image, and then subtracts each of those copies from each 3 in our validation set. What shape would you expect this tensor to have? Try to figure it out yourself before you look at the answer below:"
   ]
  },
  {
   "cell_type": "code",
   "execution_count": 39,
   "metadata": {},
   "outputs": [
    {
     "data": {
      "text/plain": [
       "torch.Size([1010, 28, 28])"
      ]
     },
     "execution_count": 39,
     "metadata": {},
     "output_type": "execute_result"
    }
   ],
   "source": [
    "(valid_3_tens-mean3).shape"
   ]
  },
  {
   "cell_type": "markdown",
   "metadata": {},
   "source": [
    "There are a couple of important points about how broadcasting is implemented, which make it valuable not just for expressivity but also for performance:\n",
    "\n",
    "PyTorch doesn't actually copy mean3 1,010 times. It pretends it were a tensor of that shape, but doesn't actually allocate any additional memory\n",
    "It does the whole calculation in C (or, if you're using a GPU, in CUDA, the equivalent of C on the GPU), tens of thousands of times faster than pure Python (up to millions of times faster on a GPU!).\n",
    "\n",
    "Next in *mnist_distance* we see *abs*. You might be able to guess now what this does when applied to a tensor. It applies the method to each individual element in the tensor, and returns a tensor of the results (that is, it applies the method \"elementwise\"). So in this case, we'll get back 1,010 matrices of absolute values."
   ]
  },
  {
   "cell_type": "markdown",
   "metadata": {},
   "source": [
    "We can use mnist_distance to figure out whether an image is a 3 or not by using the following logic: if the distance between the digit in question and the ideal 3 is less than the distance to the ideal 7, then it's a 3. This function will automatically do broadcasting and be applied elementwise,"
   ]
  },
  {
   "cell_type": "code",
   "execution_count": 40,
   "metadata": {},
   "outputs": [
    {
     "data": {
      "text/plain": [
       "(tensor(True), tensor(1.))"
      ]
     },
     "execution_count": 40,
     "metadata": {},
     "output_type": "execute_result"
    }
   ],
   "source": [
    "def is_3(x): return mnist_distance(x,mean3) < mnist_distance(x,mean7)\n",
    "\n",
    "is_3(a_3), is_3(a_3).float()"
   ]
  },
  {
   "cell_type": "markdown",
   "metadata": {},
   "source": [
    "Thanks to broadcasting, we can also test it on the full validation set of 3s:"
   ]
  },
  {
   "cell_type": "code",
   "execution_count": 41,
   "metadata": {},
   "outputs": [
    {
     "data": {
      "text/plain": [
       "tensor([True, True, True,  ..., True, True, True])"
      ]
     },
     "execution_count": 41,
     "metadata": {},
     "output_type": "execute_result"
    }
   ],
   "source": [
    "is_3(valid_3_tens)"
   ]
  },
  {
   "cell_type": "markdown",
   "metadata": {},
   "source": [
    "Now we can calculate the accuracy for each of the 3s and 7s by taking the average of that function for all 3s and its inverse for all 7s:"
   ]
  },
  {
   "cell_type": "code",
   "execution_count": 42,
   "metadata": {},
   "outputs": [
    {
     "data": {
      "text/plain": [
       "(tensor(0.9168), tensor(0.9854), tensor(0.9511))"
      ]
     },
     "execution_count": 42,
     "metadata": {},
     "output_type": "execute_result"
    }
   ],
   "source": [
    "accuracy_3s =      is_3(valid_3_tens).float() .mean()\n",
    "accuracy_7s = (1 - is_3(valid_7_tens).float()).mean()\n",
    "\n",
    "accuracy_3s,accuracy_7s,(accuracy_3s+accuracy_7s)/2"
   ]
  },
  {
   "cell_type": "markdown",
   "metadata": {},
   "source": [
    "We're getting over 90% accuracy on both 3s and 7s, and we've seen how to define a metric conveniently using broadcasting."
   ]
  },
  {
   "cell_type": "markdown",
   "metadata": {},
   "source": [
    "Go to *Stochastic Gradient Descent (SGD) topic* after the above broadcasting topic"
   ]
  },
  {
   "cell_type": "markdown",
   "metadata": {},
   "source": [
    "#### The MNIST Loss Function"
   ]
  },
  {
   "cell_type": "markdown",
   "metadata": {},
   "source": [
    "We already have our independent variables *x* —these are the images themselves. We'll concatenate them all into a single tensor, and also change them from a list of matrices (a rank-3 tensor) to a list of vectors (a rank-2 tensor). We can do this using *view*, which is a PyTorch method that changes the shape of a tensor without changing its contents. *-1* is a special parameter to *view* that means \"make this axis as big as necessary to fit all the data\":"
   ]
  },
  {
   "cell_type": "code",
   "execution_count": 43,
   "metadata": {},
   "outputs": [],
   "source": [
    "train_x = torch.cat([stacked_threes, stacked_sevens]).view(-1, 28*28)"
   ]
  },
  {
   "cell_type": "markdown",
   "metadata": {},
   "source": [
    "We need a label for each image. We'll use 1 for 3s and 0 for 7s:"
   ]
  },
  {
   "cell_type": "code",
   "execution_count": 44,
   "metadata": {},
   "outputs": [
    {
     "data": {
      "text/plain": [
       "(torch.Size([12396, 784]), torch.Size([12396, 1]))"
      ]
     },
     "execution_count": 44,
     "metadata": {},
     "output_type": "execute_result"
    }
   ],
   "source": [
    "train_y = tensor([1]*len(threes) + [0]*len(sevens)).unsqueeze(1)\n",
    "train_x.shape,train_y.shape"
   ]
  },
  {
   "cell_type": "markdown",
   "metadata": {},
   "source": [
    "A *Dataset* in PyTorch is required to return a tuple of *(x,y)* when indexed. Python provides a *zip* function which, when combined with *list*, provides a simple way to get this functionality:"
   ]
  },
  {
   "cell_type": "code",
   "execution_count": 45,
   "metadata": {},
   "outputs": [
    {
     "data": {
      "text/plain": [
       "(torch.Size([784]), tensor([1]))"
      ]
     },
     "execution_count": 45,
     "metadata": {},
     "output_type": "execute_result"
    }
   ],
   "source": [
    "dset = list(zip(train_x,train_y))\n",
    "x,y = dset[0]\n",
    "x.shape,y"
   ]
  },
  {
   "cell_type": "code",
   "execution_count": 46,
   "metadata": {},
   "outputs": [],
   "source": [
    "valid_x = torch.cat([valid_3_tens, valid_7_tens]).view(-1, 28*28)\n",
    "valid_y = tensor([1]*len(valid_3_tens) + [0]*len(valid_7_tens)).unsqueeze(1)\n",
    "valid_dset = list(zip(valid_x,valid_y))"
   ]
  },
  {
   "cell_type": "markdown",
   "metadata": {},
   "source": [
    "Now we need an (initially random) weight for every pixel (this is the initialize step in our seven-step process):"
   ]
  },
  {
   "cell_type": "code",
   "execution_count": 47,
   "metadata": {},
   "outputs": [],
   "source": [
    "def init_params(size, std=1.0): return (torch.randn(size)*std).requires_grad_()"
   ]
  },
  {
   "cell_type": "code",
   "execution_count": 48,
   "metadata": {},
   "outputs": [],
   "source": [
    "weights = init_params((28*28,1))"
   ]
  },
  {
   "cell_type": "markdown",
   "metadata": {},
   "source": [
    "The function weights * pixels won't be flexible enough. You might remember from high school math that the formula for a line is *y=w*x+b; we still need the *b*. We'll initialize it to a random number too:"
   ]
  },
  {
   "cell_type": "code",
   "execution_count": 49,
   "metadata": {},
   "outputs": [],
   "source": [
    "bias = init_params(1)"
   ]
  },
  {
   "cell_type": "markdown",
   "metadata": {},
   "source": [
    "In neural networks, the *w* in the equation *y=w*x+b is called the *weights*, and the *b* is called the *bias*. Together, the weights and bias make up the *parameters*."
   ]
  },
  {
   "cell_type": "markdown",
   "metadata": {},
   "source": [
    "We can now calculate a prediction for one image:"
   ]
  },
  {
   "cell_type": "code",
   "execution_count": 50,
   "metadata": {},
   "outputs": [
    {
     "data": {
      "text/plain": [
       "tensor([-3.4661], grad_fn=<AddBackward0>)"
      ]
     },
     "execution_count": 50,
     "metadata": {},
     "output_type": "execute_result"
    }
   ],
   "source": [
    "(train_x[0]*weights.T).sum() + bias"
   ]
  },
  {
   "cell_type": "markdown",
   "metadata": {},
   "source": [
    "While we could use a Python *for loop* to calculate the prediction for each image, that would be very slow. In this case, there's an extremely convenient mathematical operation that calculates w*x for every row of a matrix—it's called *matrix multiplication*."
   ]
  },
  {
   "cell_type": "markdown",
   "metadata": {},
   "source": [
    "In Python, matrix multiplication is represented with the *@* operator. Let's try it:"
   ]
  },
  {
   "cell_type": "code",
   "execution_count": 51,
   "metadata": {},
   "outputs": [
    {
     "data": {
      "text/plain": [
       "tensor([[ -3.4661],\n",
       "        [  2.1309],\n",
       "        [ -1.8237],\n",
       "        ...,\n",
       "        [-14.3697],\n",
       "        [-13.6408],\n",
       "        [  5.2929]], grad_fn=<AddBackward0>)"
      ]
     },
     "execution_count": 51,
     "metadata": {},
     "output_type": "execute_result"
    }
   ],
   "source": [
    "def linear1(xb): return xb@weights + bias\n",
    "preds = linear1(train_x)\n",
    "preds"
   ]
  },
  {
   "cell_type": "markdown",
   "metadata": {},
   "source": [
    "Let's check our accuracy. To decide if an output represents a 3 or a 7, we can just check whether it's greater than 0.0, so our accuracy for each item can be calculated (using broadcasting, so no loops!)"
   ]
  },
  {
   "cell_type": "code",
   "execution_count": 52,
   "metadata": {},
   "outputs": [
    {
     "data": {
      "text/plain": [
       "tensor([[False],\n",
       "        [ True],\n",
       "        [False],\n",
       "        ...,\n",
       "        [ True],\n",
       "        [ True],\n",
       "        [False]])"
      ]
     },
     "execution_count": 52,
     "metadata": {},
     "output_type": "execute_result"
    }
   ],
   "source": [
    "corrects = (preds>0.0).float() == train_y\n",
    "corrects"
   ]
  },
  {
   "cell_type": "code",
   "execution_count": 53,
   "metadata": {},
   "outputs": [
    {
     "data": {
      "text/plain": [
       "0.7135366201400757"
      ]
     },
     "execution_count": 53,
     "metadata": {},
     "output_type": "execute_result"
    }
   ],
   "source": [
    "corrects.float().mean().item()"
   ]
  },
  {
   "cell_type": "markdown",
   "metadata": {},
   "source": [
    "Now let's see what the change in accuracy is for a small change in one of the weights (note that we have to ask PyTorch not to calculate gradients as we do this, which is what with *torch.no_grad()* is doing here):"
   ]
  },
  {
   "cell_type": "code",
   "execution_count": 54,
   "metadata": {},
   "outputs": [],
   "source": [
    "with torch.no_grad(): weights[0] *= 1.0001"
   ]
  },
  {
   "cell_type": "code",
   "execution_count": 55,
   "metadata": {},
   "outputs": [
    {
     "data": {
      "text/plain": [
       "0.7135366201400757"
      ]
     },
     "execution_count": 55,
     "metadata": {},
     "output_type": "execute_result"
    }
   ],
   "source": [
    "preds = linear1(train_x)\n",
    "((preds>0.0).float() == train_y).float().mean().item()"
   ]
  },
  {
   "cell_type": "markdown",
   "metadata": {},
   "source": [
    "As we've seen, we need gradients in order to improve our model using SGD, and in order to calculate gradients we need some loss function that represents how good our model is. That is because the gradients are a measure of how that loss function changes with small tweaks to the weights.\n",
    "\n",
    "So, we need to choose a loss function. The obvious approach would be to use accuracy, which is our metric, as our loss function as well. In this case, we would calculate our prediction for each image, collect these values to calculate an overall accuracy, and then calculate the gradients of each weight with respect to that overall accuracy.\n",
    "\n",
    "Unfortunately, we have a significant technical problem here. The gradient of a function is its slope, or its steepness, which can be defined as rise over run—that is, how much the value of the function goes up or down, divided by how much we changed the input. We can write this in mathematically as: *(y_new - y_old) / (x_new - x_old)*. This gives us a good approximation of the gradient when *x_new* is very similar to *x_old*, meaning that their difference is very small. But accuracy only changes at all when a prediction changes from a 3 to a 7, or vice versa. The problem is that a small change in weights from *x_old* to *x_new* isn't likely to cause any prediction to change, so *(y_new - y_old)* will almost always be 0. In other words, the gradient is 0 almost everywhere."
   ]
  },
  {
   "cell_type": "markdown",
   "metadata": {},
   "source": [
    "A very small change in the value of a weight will often not actually change the accuracy at all. This means it is not useful to use accuracy as a loss function—if we do, most of the time our gradients will actually be 0, and the model will not be able to learn from that number. In mathematical terms, accuracy is a function that is constant almost everywhere (except at the threshold, 0.5), so its derivative is nil almost everywhere"
   ]
  },
  {
   "cell_type": "markdown",
   "metadata": {},
   "source": [
    "Instead, we need a loss function which, when our weights result in slightly better predictions, gives us a slightly better loss. So what does a \"slightly better prediction\" look like, exactly? Well, in this case, it means that if the correct answer is a 3 the score is a little higher, or if the correct answer is a 7 the score is a little lower.\n",
    "\n",
    "Let's write such a function now."
   ]
  },
  {
   "cell_type": "markdown",
   "metadata": {},
   "source": [
    "The loss function receives not the images themselves, but the predictions from the model. Let's make one argument, *prds*, of values between 0 and 1, where each value is the prediction that an image is a 3. It is a vector (i.e., a rank-1 tensor), indexed over the images.\n",
    "\n",
    "The purpose of the loss function is to measure the difference between predicted values and the true values — that is, the *targets* (aka *labels*). Let's make another argument, trgts, with values of 0 or 1 which tells whether an image actually is a 3 or not. It is also a vector (i.e., another rank-1 tensor), indexed over the images.\n",
    "\n",
    "So, for instance, suppose we had three images which we knew were a 3, a 7, and a 3. And suppose our model predicted with high confidence *(0.9)* that the first was a 3, with slight confidence *(0.4)* that the second was a 7, and with fair confidence *(0.2)*, but incorrectly, that the last was a 7. This would mean our loss function would receive these values as its inputs:"
   ]
  },
  {
   "cell_type": "code",
   "execution_count": 56,
   "metadata": {},
   "outputs": [],
   "source": [
    "trgts  = tensor([1,0,1])\n",
    "prds   = tensor([0.9, 0.4, 0.2])"
   ]
  },
  {
   "cell_type": "markdown",
   "metadata": {},
   "source": [
    "Here's a first try at a loss function that measures the distance between *predictions* and *targets*:"
   ]
  },
  {
   "cell_type": "code",
   "execution_count": 57,
   "metadata": {},
   "outputs": [],
   "source": [
    "def mnist_loss(predictions, targets):\n",
    "    return torch.where(targets==1, 1-predictions, predictions).mean()"
   ]
  },
  {
   "cell_type": "markdown",
   "metadata": {},
   "source": [
    "We're using a new function, *torch.where(a,b,c)*. This is the same as running the list comprehension *[b[i] if a[i] else c[i] for i in range(len(a))]*, except it works on tensors, at C/CUDA speed. In plain English, this function will measure how distant each prediction is from 1 if it should be 1, and how distant it is from 0 if it should be 0, and then it will take the mean of all those distances."
   ]
  },
  {
   "cell_type": "markdown",
   "metadata": {},
   "source": [
    "Let's try it on our prds and trgts:"
   ]
  },
  {
   "cell_type": "code",
   "execution_count": 58,
   "metadata": {},
   "outputs": [
    {
     "data": {
      "text/plain": [
       "tensor([0.1000, 0.4000, 0.8000])"
      ]
     },
     "execution_count": 58,
     "metadata": {},
     "output_type": "execute_result"
    }
   ],
   "source": [
    "torch.where(trgts==1, 1-prds, prds)"
   ]
  },
  {
   "cell_type": "markdown",
   "metadata": {},
   "source": [
    "You can see that this function returns a lower number when predictions are more accurate, when accurate predictions are more confident (higher absolute values), and when inaccurate predictions are less confident. In PyTorch, we always assume that a lower value of a loss function is better. Since we need a scalar for the final loss, *mnist_loss* takes the mean of the previous tensor:"
   ]
  },
  {
   "cell_type": "code",
   "execution_count": 59,
   "metadata": {},
   "outputs": [
    {
     "data": {
      "text/plain": [
       "tensor(0.4333)"
      ]
     },
     "execution_count": 59,
     "metadata": {},
     "output_type": "execute_result"
    }
   ],
   "source": [
    "mnist_loss(prds,trgts)"
   ]
  },
  {
   "cell_type": "markdown",
   "metadata": {},
   "source": [
    "For instance, if we change our prediction for the one \"false\" target from *0.2* to *0.8* the loss will go down, indicating that this is a better prediction:"
   ]
  },
  {
   "cell_type": "code",
   "execution_count": 60,
   "metadata": {},
   "outputs": [
    {
     "data": {
      "text/plain": [
       "tensor(0.2333)"
      ]
     },
     "execution_count": 60,
     "metadata": {},
     "output_type": "execute_result"
    }
   ],
   "source": [
    "mnist_loss(tensor([0.9, 0.4, 0.8]),trgts)"
   ]
  },
  {
   "cell_type": "markdown",
   "metadata": {},
   "source": [
    "One problem with mnist_loss as currently defined is that it assumes that predictions are always between 0 and 1. We need to ensure, then, that this is actually the case! As it happens, there is a function that does exactly that—let's take a look."
   ]
  }
 ],
 "metadata": {
  "interpreter": {
   "hash": "31f2aee4e71d21fbe5cf8b01ff0e069b9275f58929596ceb00d14d90e3e16cd6"
  },
  "kernelspec": {
   "display_name": "Python 3.10.12 64-bit",
   "language": "python",
   "name": "python3"
  },
  "language_info": {
   "codemirror_mode": {
    "name": "ipython",
    "version": 3
   },
   "file_extension": ".py",
   "mimetype": "text/x-python",
   "name": "python",
   "nbconvert_exporter": "python",
   "pygments_lexer": "ipython3",
   "version": "3.10.12"
  },
  "orig_nbformat": 4
 },
 "nbformat": 4,
 "nbformat_minor": 2
}
